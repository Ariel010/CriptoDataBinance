{
 "cells": [
  {
   "cell_type": "code",
   "execution_count": 4,
   "metadata": {},
   "outputs": [
    {
     "name": "stdout",
     "output_type": "stream",
     "text": [
      "{'symbol': 'EOSUSDT', 'price': '1.21400000'}\n",
      "              Open    High     Low   Close       Volume\n",
      "Date                                                   \n",
      "2021-01-01  2.5906  2.7313  2.5670  2.6378  13298192.52\n",
      "2021-01-02  2.6381  2.7232  2.5627  2.6321  17549382.44\n",
      "2021-01-03  2.6316  2.8444  2.5767  2.7985  34686424.89\n",
      "2021-01-04  2.7990  3.1220  2.6200  2.8191  52251721.55\n",
      "2021-01-05  2.8199  2.9537  2.7104  2.8862  30181879.28\n",
      "...            ...     ...     ...     ...          ...\n",
      "2023-04-12  1.2320  1.2380  1.1920  1.2070  11721155.50\n",
      "2023-04-13  1.2070  1.2740  1.1990  1.2580  17736606.70\n",
      "2023-04-14  1.2580  1.2970  1.2110  1.2490  25660594.30\n",
      "2023-04-15  1.2500  1.2520  1.2300  1.2420   8242665.30\n",
      "2023-04-16  1.2420  1.2530  1.2230  1.2380   7503759.80\n",
      "\n",
      "[836 rows x 5 columns]\n",
      "Data extraction finished :)\n"
     ]
    }
   ],
   "source": [
    "#Se saca en: https://testnet.binance.vision/\n",
    "#API Key: *********************************\n",
    "#Secret Key: *****************************\n",
    "\n",
    "from datetime import date, timedelta\n",
    "import pandas as pd\n",
    "from binance import Client\n",
    "today = date.today()\n",
    "yesterday = today - timedelta(days=1)\n",
    "\n",
    "def criptodata(dataticker):\n",
    "    api_key = \"Se saca en: https://testnet.binance.vision/ y se pone con comillas\"\n",
    "    api_secret = \"Se saca en: https://testnet.binance.vision/ y se pone con comillas\"\n",
    "    client = Client(api_key, api_secret)\n",
    "    price = client.get_symbol_ticker(symbol=dataticker)\n",
    "    print(price)\n",
    "    asset = dataticker\n",
    "    start = \"2021.01.01\"\n",
    "    end = str(yesterday)\n",
    "    timeframe = \"1d\"\n",
    "    df = pd.DataFrame(client.get_historical_klines(asset,timeframe,start,end))\n",
    "    df = df.iloc[:,:6]\n",
    "    df.columns = [\"Date\",\"Open\",\"High\",\"Low\",\"Close\",\"Volume\"]\n",
    "    df = df.set_index(\"Date\")\n",
    "    df.index = pd.to_datetime(df.index, unit=\"ms\")\n",
    "    df = df.astype(\"float\")\n",
    "    print(df)\n",
    "    #save to csv:\n",
    "    df.to_csv(dataticker + \".csv\", encoding='utf-8')\n",
    "    print(\"Data extraction finished :)\")\n",
    "list = [\"EOSUSDT\",\"BTCUSDT\",\"ETHUSDT\",\"ADAUSDT\",\"XRPUSDT\"]\n",
    "for i in list:\n",
    "    criptodata(i)"
   ]
  }
 ],
 "metadata": {
  "kernelspec": {
   "display_name": "Python 3",
   "language": "python",
   "name": "python3"
  },
  "language_info": {
   "codemirror_mode": {
    "name": "ipython",
    "version": 3
   },
   "file_extension": ".py",
   "mimetype": "text/x-python",
   "name": "python",
   "nbconvert_exporter": "python",
   "pygments_lexer": "ipython3",
   "version": "3.10.3"
  },
  "orig_nbformat": 4
 },
 "nbformat": 4,
 "nbformat_minor": 2
}
